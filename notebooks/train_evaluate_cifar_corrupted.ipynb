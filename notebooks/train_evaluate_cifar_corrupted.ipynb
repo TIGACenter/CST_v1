{
 "cells": [
  {
   "cell_type": "code",
   "execution_count": null,
   "metadata": {},
   "outputs": [],
   "source": [
    "import os\n",
    "import sys\n",
    "sys.path.append(\"..\")\n",
    "\n",
    "import tensorflow as tf\n",
    "import numpy as np\n",
    "import matplotlib.pyplot as plt\n",
    "\n",
    "import utils as utils\n",
    "import CST as CST\n",
    "from metrics import recall_m, precision_m, f1_m, auc_m"
   ]
  },
  {
   "cell_type": "code",
   "execution_count": null,
   "metadata": {},
   "outputs": [],
   "source": [
    "(x_train, y_train), (x_test, y_test) = tf.keras.datasets.cifar10.load_data()\n",
    "\n",
    "n_classes = len(np.unique(y_train))\n",
    "\n",
    "x_train = utils.normalize_image(x_train)  # images must be normalized and centralized in 0 for the distortions to work\n",
    "x_test = utils.normalize_image(x_test)\n",
    "\n",
    "y_train = tf.keras.utils.to_categorical(y_train, num_classes = n_classes)\n",
    "y_test = tf.keras.utils.to_categorical(y_test, num_classes = n_classes)\n",
    "\n",
    "print(x_train.shape)\n",
    "print(y_train.shape)"
   ]
  },
  {
   "cell_type": "markdown",
   "metadata": {},
   "source": [
    "### Train with CST"
   ]
  },
  {
   "cell_type": "code",
   "execution_count": null,
   "metadata": {},
   "outputs": [],
   "source": [
    "tile_size = 32\n",
    "\n",
    "alpha = 1\n",
    "\n",
    "dist_params = {\n",
    "    \"contrast\": {\"lower\": 0.8, \"upper\": 1.2},\n",
    "    \"color\": {\"factor\": [20,0,20]},\n",
    "    \"blur\": {\"kernel_size\": 1, \"sigma\": 3.},  # kernel size is 'kernel_size * 2 + 1'\n",
    "    \"brightness\": {\"max_delta\":0.3}\n",
    "}\n",
    "\n",
    "model = tf.keras.Sequential([\n",
    "    tf.keras.applications.ResNet50(weights='imagenet', include_top=False, input_shape=(32,32,3)),\n",
    "    tf.keras.layers.Flatten(),\n",
    "    tf.keras.layers.Dense(64, activation='relu'),\n",
    "    tf.keras.layers.Dense(n_classes, activation='softmax')\n",
    "])\n",
    "\n",
    "\n",
    "cst = CST.ContrastiveStabilityTraining(\n",
    "    model=model,\n",
    "    tile_size=tile_size,\n",
    "    dist_params=dist_params,\n",
    "    alpha=alpha\n",
    ")\n",
    "print(cst)"
   ]
  },
  {
   "cell_type": "code",
   "execution_count": null,
   "metadata": {},
   "outputs": [],
   "source": [
    "opt = tf.keras.optimizers.Adam(lr=1e-4, amsgrad=True)\n",
    "# opt = tf.keras.optimizers.SGD(lr=1e-4)\n",
    "metrics = [\"categorical_crossentropy\", recall_m, precision_m, f1_m, auc_m]\n",
    "loss = tf.keras.losses.categorical_crossentropy\n",
    "\n",
    "cst.compile_cst(optimizer=opt, metrics=metrics, loss=loss)"
   ]
  },
  {
   "cell_type": "code",
   "execution_count": null,
   "metadata": {
    "scrolled": true
   },
   "outputs": [],
   "source": [
    "# train parameters\n",
    "save_all_epochs = True\n",
    "model_save_path = \"../models\"\n",
    "model_name = \"aaa_cst_cifar_10\"\n",
    "save_metrics = True\n",
    "epochs = 1\n",
    "\n",
    "cst.train_cst(\n",
    "    x=x_test,\n",
    "    y=y_test,\n",
    "    validation_data=(x_test,y_test),\n",
    "    save_all_epochs=save_all_epochs,\n",
    "    model_save_path=model_save_path,\n",
    "    model_name=model_name,\n",
    "    save_metrics=save_metrics,\n",
    "    epochs=epochs,\n",
    "    class_weight=None\n",
    ")"
   ]
  },
  {
   "cell_type": "code",
   "execution_count": null,
   "metadata": {},
   "outputs": [],
   "source": []
  },
  {
   "cell_type": "markdown",
   "metadata": {},
   "source": [
    "### Train without CST"
   ]
  },
  {
   "cell_type": "code",
   "execution_count": null,
   "metadata": {},
   "outputs": [],
   "source": [
    "tile_size = 32\n",
    "\n",
    "alpha = 0\n",
    "\n",
    "dist_params = {\n",
    "    \"contrast\": {\"lower\": 0.8, \"upper\": 1.2},\n",
    "    \"color\": {\"factor\": [20,0,20]},\n",
    "    \"blur\": {\"kernel_size\": 1, \"sigma\": 3.},  # kernel size is 'kernel_size * 2 + 1'\n",
    "    \"brightness\": {\"max_delta\":0.3}\n",
    "}\n",
    "\n",
    "model = tf.keras.Sequential([\n",
    "    tf.keras.applications.ResNet50(weights='imagenet', include_top=False, input_shape=(32,32,3)),\n",
    "    tf.keras.layers.Flatten(),\n",
    "    tf.keras.layers.Dense(64, activation='relu'),\n",
    "    tf.keras.layers.Dense(n_classes, activation='softmax')\n",
    "])\n",
    "\n",
    "\n",
    "cst = CST.ContrastiveStabilityTraining(\n",
    "    model=model,\n",
    "    tile_size=tile_size,\n",
    "    dist_params=dist_params,\n",
    "    alpha=alpha\n",
    ")\n",
    "print(cst)"
   ]
  },
  {
   "cell_type": "code",
   "execution_count": null,
   "metadata": {},
   "outputs": [],
   "source": [
    "# opt = tf.keras.optimizers.Adam(lr=1e-4, amsgrad=True)\n",
    "# opt = tf.keras.optimizers.SGD(lr=1e-4)\n",
    "\n",
    "# metrics = [\"categorical_crossentropy\", recall_m, precision_m, f1_m, auc_m]\n",
    "\n",
    "params = {\n",
    "    \"class_name\": \"Adam\",\n",
    "    \"config\":\n",
    "    {\n",
    "        \"lr\": 0.0001,\n",
    "        \"amsgrad\": True,\n",
    "        \"epsilon\": 0.1\n",
    "    }\n",
    "}\n",
    "opt = tf.keras.optimizers.get(params)\n",
    "\n",
    "loss = tf.keras.losses.categorical_crossentropy\n",
    "\n",
    "cst.compile_cst(optimizer=opt, metrics=metrics, loss=loss)"
   ]
  },
  {
   "cell_type": "code",
   "execution_count": null,
   "metadata": {},
   "outputs": [],
   "source": []
  },
  {
   "cell_type": "code",
   "execution_count": null,
   "metadata": {
    "scrolled": true
   },
   "outputs": [],
   "source": [
    "# train parameters\n",
    "save_all_epochs = True\n",
    "model_save_path = \"../models\"\n",
    "model_name = \"bbb_no_cst_cifar_10\"\n",
    "save_metrics = True\n",
    "epochs = 1\n",
    "\n",
    "cst.train_cst(\n",
    "    x=x_test,\n",
    "    y=y_test,\n",
    "    validation_data=(x_test,y_test),\n",
    "    save_all_epochs=save_all_epochs,\n",
    "    model_save_path=model_save_path,\n",
    "    model_name=model_name,\n",
    "    save_metrics=save_metrics,\n",
    "    epochs=epochs,\n",
    "    class_weight=None\n",
    ")"
   ]
  },
  {
   "cell_type": "code",
   "execution_count": null,
   "metadata": {},
   "outputs": [],
   "source": []
  },
  {
   "cell_type": "markdown",
   "metadata": {},
   "source": [
    "#### load cifar-c\n",
    "TODO: https://stackoverflow.com/questions/4256107/running-bash-commands-in-python"
   ]
  },
  {
   "cell_type": "code",
   "execution_count": null,
   "metadata": {},
   "outputs": [],
   "source": [
    "# mkdir -p ./data/cifar\n",
    "# curl -O https://zenodo.org/record/2535967/files/CIFAR-10-C.tar\n",
    "# tar -xvf CIFAR-100-C.tar -C data/cifar/"
   ]
  },
  {
   "cell_type": "code",
   "execution_count": null,
   "metadata": {},
   "outputs": [],
   "source": [
    "cifar_c_path = \"../data/CIFAR-10-C\"\n",
    "img_corr = np.load(os.path.join(cifar_c_path, \"brightness.npy\"))\n",
    "labels = np.load(os.path.join(cifar_c_path, \"labels.npy\"))\n",
    "\n",
    "print(img_corr.shape)"
   ]
  },
  {
   "cell_type": "code",
   "execution_count": null,
   "metadata": {},
   "outputs": [],
   "source": []
  }
 ],
 "metadata": {
  "kernelspec": {
   "display_name": "python3.6",
   "language": "python",
   "name": "python3.6"
  },
  "language_info": {
   "codemirror_mode": {
    "name": "ipython",
    "version": 3
   },
   "file_extension": ".py",
   "mimetype": "text/x-python",
   "name": "python",
   "nbconvert_exporter": "python",
   "pygments_lexer": "ipython3",
   "version": "3.6.2"
  }
 },
 "nbformat": 4,
 "nbformat_minor": 2
}
