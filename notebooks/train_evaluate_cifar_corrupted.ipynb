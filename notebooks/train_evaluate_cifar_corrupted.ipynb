{
 "cells": [
  {
   "cell_type": "code",
   "execution_count": 1,
   "metadata": {},
   "outputs": [],
   "source": [
    "import os\n",
    "import sys\n",
    "sys.path.append(\"..\")\n",
    "\n",
    "import tensorflow as tf\n",
    "import numpy as np\n",
    "import matplotlib.pyplot as plt\n",
    "\n",
    "import utils as utils\n",
    "import CST as CST\n",
    "from metrics import recall_m, precision_m, f1_m, auc_m"
   ]
  },
  {
   "cell_type": "code",
   "execution_count": 2,
   "metadata": {},
   "outputs": [
    {
     "name": "stdout",
     "output_type": "stream",
     "text": [
      "(50000, 32, 32, 3)\n",
      "(50000, 10)\n"
     ]
    }
   ],
   "source": [
    "(x_train, y_train), (x_test, y_test) = tf.keras.datasets.cifar10.load_data()\n",
    "\n",
    "n_classes = len(np.unique(y_train))\n",
    "\n",
    "x_train = utils.normalize_image(x_train)\n",
    "x_test = utils.normalize_image(x)\n",
    "\n",
    "y_train = tf.keras.utils.to_categorical(y_train, num_classes = 10)\n",
    "y_test = tf.keras.utils.to_categorical(y_test, num_classes = 10)\n",
    "print(x_train.shape)\n",
    "print(y_train.shape)"
   ]
  },
  {
   "cell_type": "code",
   "execution_count": 3,
   "metadata": {},
   "outputs": [
    {
     "name": "stderr",
     "output_type": "stream",
     "text": [
      "/usr/local/lib/python3.6/dist-packages/keras_applications/resnet50.py:265: UserWarning: The output shape of `ResNet50(include_top=False)` has been changed since Keras 2.2.0.\n",
      "  warnings.warn('The output shape of `ResNet50(include_top=False)` '\n"
     ]
    }
   ],
   "source": [
    "tile_size = 32\n",
    "\n",
    "alpha = 5\n",
    "dist_params = {\n",
    "    \"contrast\": {\"lower\": 0.8, \"upper\": 1.2},\n",
    "    \"color\": {\"factor\": [20,0,20]},\n",
    "    \"blur\": {\"kernel_size\": 1, \"sigma\": 3.},  # kernel size is 'kernel_size * 2 + 1'\n",
    "    \"brightness\": {\"max_delta\":0.3}\n",
    "}\n",
    "\n",
    "model = tf.keras.Sequential([\n",
    "    tf.keras.applications.ResNet50(include_top=False, input_shape=(32,32,3)),\n",
    "    tf.keras.layers.Flatten(),\n",
    "    tf.keras.layers.Dense(64, activation='relu'),\n",
    "    tf.keras.layers.Dense(n_classes, activation='sigmoid')\n",
    "])\n",
    "\n",
    "\n",
    "cst = CST.ContrastiveStabilityTraining(\n",
    "    model=model,\n",
    "    tile_size=tile_size,\n",
    "    dist_params=dist_params,\n",
    "    alpha=alpha\n",
    ")"
   ]
  },
  {
   "cell_type": "code",
   "execution_count": 4,
   "metadata": {},
   "outputs": [],
   "source": [
    "opt = tf.keras.optimizers.Adam(lr=1e-3, amsgrad=True)\n",
    "# opt = tf.keras.optimizers.SGD(lr=1e-4)\n",
    "metrics = [\"categorical_crossentropy\", recall_m, precision_m, f1_m, auc_m]\n",
    "loss = tf.keras.losses.categorical_crossentropy\n",
    "\n",
    "cst.compile_cst(optimizer=opt, metrics=metrics, loss=loss)"
   ]
  },
  {
   "cell_type": "code",
   "execution_count": null,
   "metadata": {
    "scrolled": true
   },
   "outputs": [
    {
     "name": "stdout",
     "output_type": "stream",
     "text": [
      "Train on 50000 samples, validate on 10000 samples\n",
      "Epoch 1/100\n",
      "49984/50000 [============================>.] - ETA: 0s - loss: 0.5024 - acc: 0.8933 - loss_1: 0.5024 - categorical_crossentropy: 0.4113 - recall_m: 0.9275 - precision_m: 0.8311 - f1_m: 0.8649 - auc_m: 0.9585class weights saved to path: \n",
      "cst_cifar_101.h5\n",
      "50000/50000 [==============================] - 192s 4ms/step - loss: 0.5023 - acc: 0.8933 - loss_1: 0.5023 - categorical_crossentropy: 0.4112 - recall_m: 0.9275 - precision_m: 0.8310 - f1_m: 0.8649 - auc_m: 0.9585 - val_loss: 15.7077 - val_acc: 0.1000 - val_loss_1: 15.7077 - val_categorical_crossentropy: 13.0331 - val_recall_m: 0.2000 - val_precision_m: 0.1000 - val_f1_m: 0.1333 - val_auc_m: 0.9353\n",
      "Epoch 2/100\n",
      "46688/50000 [===========================>..] - ETA: 11s - loss: 0.2044 - acc: 0.8996 - loss_1: 0.2044 - categorical_crossentropy: 0.1878 - recall_m: 0.9579 - precision_m: 0.8795 - f1_m: 0.9168 - auc_m: 0.9196"
     ]
    }
   ],
   "source": [
    "# train parameters\n",
    "save_all_epochs = True\n",
    "model_save_path = \"../models\"\n",
    "model_name = \"cst_cifar_10\"\n",
    "save_metrics = True\n",
    "epochs = 100\n",
    "\n",
    "\n",
    "\n",
    "cst.train_cst(\n",
    "    x=x_train,\n",
    "    y=y_train,\n",
    "    validation_data=(x_test,y_test),\n",
    "    save_all_epochs=save_all_epochs,\n",
    "    model_save_path=model_save_path,\n",
    "    model_name=model_name,\n",
    "    save_metrics=save_metrics,\n",
    "    epochs=epochs,\n",
    "    class_weight=None\n",
    ")\n",
    "\n",
    "\n",
    "# model.compile(optimizer=opt, metrics=metrics, loss=\"categorical_crossentropy\")\n",
    "\n",
    "# model.fit(\n",
    "#     x=x_train,\n",
    "#     y=y_train,\n",
    "#     validation_data=(x_test,y_test),\n",
    "# #     save_all_epochs=save_all_epochs,\n",
    "# #     model_save_path=model_save_path,\n",
    "# #     model_name=model_name,\n",
    "# #     save_metrics=save_metrics,\n",
    "#     epochs=epochs,\n",
    "# #     class_weight=None\n",
    "# )"
   ]
  },
  {
   "cell_type": "code",
   "execution_count": null,
   "metadata": {},
   "outputs": [],
   "source": []
  },
  {
   "cell_type": "code",
   "execution_count": null,
   "metadata": {},
   "outputs": [],
   "source": []
  },
  {
   "cell_type": "markdown",
   "metadata": {},
   "source": [
    "#### load cifar-c\n",
    "TODO: https://stackoverflow.com/questions/4256107/running-bash-commands-in-python"
   ]
  },
  {
   "cell_type": "code",
   "execution_count": null,
   "metadata": {},
   "outputs": [],
   "source": [
    "# mkdir -p ./data/cifar\n",
    "# curl -O https://zenodo.org/record/2535967/files/CIFAR-10-C.tar\n",
    "# tar -xvf CIFAR-100-C.tar -C data/cifar/"
   ]
  },
  {
   "cell_type": "code",
   "execution_count": null,
   "metadata": {},
   "outputs": [],
   "source": [
    "cifar_c_path = \"../data/CIFAR-10-C\"\n",
    "img_corr = np.load(os.path.join(cifar_c_path, \"brightness.npy\"))\n",
    "labels = np.load(os.path.join(cifar_c_path, \"labels.npy\"))\n",
    "\n",
    "print(img_corr.shape)"
   ]
  },
  {
   "cell_type": "code",
   "execution_count": null,
   "metadata": {},
   "outputs": [],
   "source": []
  },
  {
   "cell_type": "code",
   "execution_count": null,
   "metadata": {},
   "outputs": [],
   "source": []
  }
 ],
 "metadata": {
  "kernelspec": {
   "display_name": "python3.6",
   "language": "python",
   "name": "python3.6"
  },
  "language_info": {
   "codemirror_mode": {
    "name": "ipython",
    "version": 3
   },
   "file_extension": ".py",
   "mimetype": "text/x-python",
   "name": "python",
   "nbconvert_exporter": "python",
   "pygments_lexer": "ipython3",
   "version": "3.6.2"
  }
 },
 "nbformat": 4,
 "nbformat_minor": 2
}
