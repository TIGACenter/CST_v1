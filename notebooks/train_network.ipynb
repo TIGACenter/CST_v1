{
 "cells": [
  {
   "cell_type": "code",
   "execution_count": 1,
   "metadata": {},
   "outputs": [],
   "source": [
    "import os\n",
    "import sys\n",
    "sys.path.append(\"..\")\n",
    "\n",
    "import tensorflow as tf\n",
    "import numpy as np\n",
    "\n",
    "import utils as utils\n",
    "import CST as CST\n",
    "from metrics import recall_m, precision_m, f1_m, auc_m"
   ]
  },
  {
   "cell_type": "markdown",
   "metadata": {},
   "source": [
    "#### Load data"
   ]
  },
  {
   "cell_type": "code",
   "execution_count": 2,
   "metadata": {},
   "outputs": [
    {
     "name": "stdout",
     "output_type": "stream",
     "text": [
      "Found 222020 images belonging to 2 classes.\n",
      "Found 55504 images belonging to 2 classes.\n"
     ]
    }
   ],
   "source": [
    "\"\"\"generator parameters\"\"\"\n",
    "data_path = \"../data/aj/IDC_regular_ps50_idx5\"\n",
    "# data_path = \"../data/cifar-10/train\"\n",
    "batch_size = 128\n",
    "tile_size = 50\n",
    "class_mode = \"binary\"  # categorical or binary\n",
    "\"\"\"--------------------\"\"\"\n",
    "\n",
    "gen = tf.keras.preprocessing.image.ImageDataGenerator(\n",
    "    validation_split=0.2,\n",
    "    preprocessing_function=utils.normalize_image # images must be normalized and centralized in 0 for the distortions to work\n",
    ")\n",
    "\n",
    "t_flow = gen.flow_from_directory(\n",
    "    directory=data_path,\n",
    "    target_size=(tile_size,tile_size),\n",
    "    color_mode='rgb',  \n",
    "    batch_size=batch_size,\n",
    "    class_mode=class_mode,\n",
    "    subset='training'\n",
    ")\n",
    "\n",
    "v_flow = gen.flow_from_directory(\n",
    "    directory=data_path,\n",
    "    target_size=(tile_size,tile_size),\n",
    "    color_mode=\"rgb\",  \n",
    "    batch_size=batch_size,\n",
    "    shuffle=False,\n",
    "    class_mode=class_mode, \n",
    "    subset='validation'\n",
    ")\n",
    "\n",
    "class_weight = utils.get_class_weights(t_flow.classes)"
   ]
  },
  {
   "cell_type": "code",
   "execution_count": 3,
   "metadata": {},
   "outputs": [
    {
     "name": "stdout",
     "output_type": "stream",
     "text": [
      "N° of classes: 2:\n",
      "{'0': 0, '1': 1}\n"
     ]
    }
   ],
   "source": [
    "classes = t_flow.class_indices\n",
    "n_classes = len(classes)\n",
    "print(f\"N° of classes: {n_classes}:\")\n",
    "print(classes)\n",
    "n_classes = 1 if n_classes == 2 else n_classes # if 2 classes, then its a binary problem \n"
   ]
  },
  {
   "cell_type": "markdown",
   "metadata": {},
   "source": [
    "#### Create model and cst instance"
   ]
  },
  {
   "cell_type": "code",
   "execution_count": 4,
   "metadata": {},
   "outputs": [
    {
     "name": "stdout",
     "output_type": "stream",
     "text": [
      "binary\n",
      "sigmoid\n"
     ]
    },
    {
     "name": "stderr",
     "output_type": "stream",
     "text": [
      "/usr/local/lib/python3.6/dist-packages/keras_applications/resnet50.py:265: UserWarning: The output shape of `ResNet50(include_top=False)` has been changed since Keras 2.2.0.\n",
      "  warnings.warn('The output shape of `ResNet50(include_top=False)` '\n"
     ]
    },
    {
     "name": "stdout",
     "output_type": "stream",
     "text": [
      "_________________________________________________________________\n",
      "Layer (type)                 Output Shape              Param #   \n",
      "=================================================================\n",
      "input_2 (InputLayer)         (None, 50, 50, 3)         0         \n",
      "_________________________________________________________________\n",
      "sequential (Sequential)      (None, 1)                 24112129  \n",
      "=================================================================\n",
      "Total params: 24,112,129\n",
      "Trainable params: 24,059,009\n",
      "Non-trainable params: 53,120\n",
      "_________________________________________________________________\n"
     ]
    }
   ],
   "source": [
    "\"\"\"cst parameters\"\"\"\n",
    "alpha = 1\n",
    "dist_params = {\n",
    "    \"contrast\": {\"lower\": 0.4, \"upper\": 1.4},\n",
    "    \"color\": {\"factor\": [20,20,20]},\n",
    "    \"blur\": {\"kernel_size\": 1, \"sigma\": 3.},  # kernel size is 'kernel_size * 2 + 1'\n",
    "    \"brightness\": {\"max_delta\":0.3}\n",
    "}\n",
    "# model_path = \"../models/CST4_alpha1_DC4.h5\"\n",
    "\n",
    "\"\"\"--------------\"\"\"\n",
    "activation = \"sigmoid\" if class_mode == \"binary\" else \"softmax\"\n",
    "print(class_mode)\n",
    "print(activation)\n",
    "\n",
    "\n",
    "# model = tf.keras.models.load_model(model_path)\n",
    "\n",
    "model = tf.keras.Sequential([\n",
    "    tf.keras.applications.ResNet50(weights='imagenet', include_top=False, input_shape=(tile_size,tile_size,3)),\n",
    "    tf.keras.layers.Flatten(),\n",
    "    tf.keras.layers.Dense(64, activation='relu'),\n",
    "    tf.keras.layers.Dense(n_classes, activation=activation)\n",
    "])\n",
    "\n",
    "cst = CST.ContrastiveStabilityTraining(\n",
    "    model=model,\n",
    "    tile_size=tile_size,\n",
    "    dist_params=dist_params,\n",
    "    alpha=alpha\n",
    ")\n",
    "cst.cst_model.summary()\n"
   ]
  },
  {
   "cell_type": "markdown",
   "metadata": {},
   "source": [
    "#### Compile "
   ]
  },
  {
   "cell_type": "code",
   "execution_count": 5,
   "metadata": {},
   "outputs": [],
   "source": [
    "opt = tf.keras.optimizers.SGD(lr=1e-4, momentum=0.9, decay=1e-6)\n",
    "# opt = tf.keras.optimizers.Adam(lr=1e-4, amsgrad=True)\n",
    "\n",
    "if class_mode == \"binary\":\n",
    "    metrics = [tf.keras.metrics.binary_crossentropy, recall_m, precision_m, f1_m, auc_m]\n",
    "    loss = tf.keras.losses.binary_crossentropy\n",
    "\n",
    "if class_mode == \"categorical\":\n",
    "    metrics = [\"categorical_crossentropy\", recall_m, precision_m, f1_m, auc_m]\n",
    "    loss = tf.keras.losses.categorical_crossentropy\n",
    "\n",
    "cst.compile_cst(optimizer=opt, metrics=metrics, loss=loss)"
   ]
  },
  {
   "cell_type": "markdown",
   "metadata": {},
   "source": [
    "#### Train"
   ]
  },
  {
   "cell_type": "code",
   "execution_count": 6,
   "metadata": {
    "scrolled": true
   },
   "outputs": [
    {
     "name": "stdout",
     "output_type": "stream",
     "text": [
      "Epoch 1/10\n",
      "1734/1735 [============================>.] - ETA: 0s - loss: 0.4638 - acc: 0.8315 - loss_1: 0.4602 - binary_crossentropy: 0.3975 - recall_m: 0.8113 - precision_m: 0.6708 - f1_m: 0.7309 - auc_m: 0.8596class weights saved to path: \n",
      "cst_nb_model_idc1.h5\n",
      "1735/1735 [==============================] - 502s 290ms/step - loss: 0.4637 - acc: 0.8315 - loss_1: 0.4602 - binary_crossentropy: 0.3975 - recall_m: 0.8113 - precision_m: 0.6708 - f1_m: 0.7309 - auc_m: 0.8597 - val_loss: 1.0025 - val_acc: 0.7100 - val_loss_1: 1.0025 - val_binary_crossentropy: 0.6390 - val_recall_m: 0.2593 - val_precision_m: 0.2843 - val_f1_m: 0.2696 - val_auc_m: 0.8879\n",
      "Epoch 2/10\n",
      "1734/1735 [============================>.] - ETA: 0s - loss: 0.3569 - acc: 0.8638 - loss_1: 0.3561 - binary_crossentropy: 0.3222 - recall_m: 0.8580 - precision_m: 0.7182 - f1_m: 0.7790 - auc_m: 0.9026class weights saved to path: \n",
      "cst_nb_model_idc2.h5\n",
      "1735/1735 [==============================] - 485s 279ms/step - loss: 0.3569 - acc: 0.8638 - loss_1: 0.3561 - binary_crossentropy: 0.3222 - recall_m: 0.8580 - precision_m: 0.7182 - f1_m: 0.7790 - auc_m: 0.9027 - val_loss: 0.9874 - val_acc: 0.7399 - val_loss_1: 0.9874 - val_binary_crossentropy: 0.5825 - val_recall_m: 0.2575 - val_precision_m: 0.2845 - val_f1_m: 0.2687 - val_auc_m: 0.9075\n",
      "Epoch 3/10\n",
      "1734/1735 [============================>.] - ETA: 0s - loss: 0.3433 - acc: 0.8676 - loss_1: 0.3425 - binary_crossentropy: 0.3116 - recall_m: 0.8645 - precision_m: 0.7237 - f1_m: 0.7850 - auc_m: 0.9129class weights saved to path: \n",
      "cst_nb_model_idc3.h5\n",
      "1735/1735 [==============================] - 485s 279ms/step - loss: 0.3432 - acc: 0.8677 - loss_1: 0.3425 - binary_crossentropy: 0.3116 - recall_m: 0.8645 - precision_m: 0.7238 - f1_m: 0.7850 - auc_m: 0.9129 - val_loss: 1.0377 - val_acc: 0.7400 - val_loss_1: 1.0377 - val_binary_crossentropy: 0.5763 - val_recall_m: 0.2584 - val_precision_m: 0.2846 - val_f1_m: 0.2692 - val_auc_m: 0.9146\n",
      "Epoch 4/10\n",
      "1734/1735 [============================>.] - ETA: 0s - loss: 0.3282 - acc: 0.8736 - loss_1: 0.3284 - binary_crossentropy: 0.2987 - recall_m: 0.8750 - precision_m: 0.7327 - f1_m: 0.7948 - auc_m: 0.9181class weights saved to path: \n",
      "cst_nb_model_idc4.h5\n",
      "1735/1735 [==============================] - 485s 279ms/step - loss: 0.3282 - acc: 0.8736 - loss_1: 0.3285 - binary_crossentropy: 0.2987 - recall_m: 0.8750 - precision_m: 0.7327 - f1_m: 0.7948 - auc_m: 0.9181 - val_loss: 1.0304 - val_acc: 0.7409 - val_loss_1: 1.0304 - val_binary_crossentropy: 0.5821 - val_recall_m: 0.2596 - val_precision_m: 0.2846 - val_f1_m: 0.2700 - val_auc_m: 0.9193\n",
      "Epoch 5/10\n",
      "1734/1735 [============================>.] - ETA: 0s - loss: 0.3149 - acc: 0.8779 - loss_1: 0.3155 - binary_crossentropy: 0.2872 - recall_m: 0.8812 - precision_m: 0.7391 - f1_m: 0.8013 - auc_m: 0.9219class weights saved to path: \n",
      "cst_nb_model_idc5.h5\n",
      "1735/1735 [==============================] - 485s 279ms/step - loss: 0.3148 - acc: 0.8779 - loss_1: 0.3155 - binary_crossentropy: 0.2871 - recall_m: 0.8812 - precision_m: 0.7392 - f1_m: 0.8014 - auc_m: 0.9219 - val_loss: 0.9942 - val_acc: 0.7744 - val_loss_1: 0.9942 - val_binary_crossentropy: 0.5131 - val_recall_m: 0.2548 - val_precision_m: 0.2846 - val_f1_m: 0.2670 - val_auc_m: 0.9234\n",
      "Epoch 6/10\n",
      "1734/1735 [============================>.] - ETA: 0s - loss: 0.3066 - acc: 0.8814 - loss_1: 0.3076 - binary_crossentropy: 0.2784 - recall_m: 0.8855 - precision_m: 0.7451 - f1_m: 0.8066 - auc_m: 0.9254class weights saved to path: \n",
      "cst_nb_model_idc6.h5\n",
      "1735/1735 [==============================] - 485s 279ms/step - loss: 0.3066 - acc: 0.8814 - loss_1: 0.3075 - binary_crossentropy: 0.2783 - recall_m: 0.8856 - precision_m: 0.7451 - f1_m: 0.8066 - auc_m: 0.9254 - val_loss: 1.0513 - val_acc: 0.7713 - val_loss_1: 1.0513 - val_binary_crossentropy: 0.5292 - val_recall_m: 0.2549 - val_precision_m: 0.2846 - val_f1_m: 0.2671 - val_auc_m: 0.9265\n",
      "Epoch 7/10\n",
      "1734/1735 [============================>.] - ETA: 0s - loss: 0.2964 - acc: 0.8853 - loss_1: 0.2973 - binary_crossentropy: 0.2686 - recall_m: 0.8907 - precision_m: 0.7518 - f1_m: 0.8126 - auc_m: 0.9281class weights saved to path: \n",
      "cst_nb_model_idc7.h5\n",
      "1735/1735 [==============================] - 485s 280ms/step - loss: 0.2963 - acc: 0.8854 - loss_1: 0.2972 - binary_crossentropy: 0.2685 - recall_m: 0.8907 - precision_m: 0.7518 - f1_m: 0.8126 - auc_m: 0.9281 - val_loss: 1.0427 - val_acc: 0.7710 - val_loss_1: 1.0427 - val_binary_crossentropy: 0.5336 - val_recall_m: 0.2567 - val_precision_m: 0.2846 - val_f1_m: 0.2683 - val_auc_m: 0.9291\n",
      "Epoch 8/10\n",
      "1734/1735 [============================>.] - ETA: 0s - loss: 0.2890 - acc: 0.8887 - loss_1: 0.2904 - binary_crossentropy: 0.2604 - recall_m: 0.8941 - precision_m: 0.7578 - f1_m: 0.8177 - auc_m: 0.9305class weights saved to path: \n",
      "cst_nb_model_idc8.h5\n",
      "1735/1735 [==============================] - 484s 279ms/step - loss: 0.2890 - acc: 0.8887 - loss_1: 0.2905 - binary_crossentropy: 0.2604 - recall_m: 0.8941 - precision_m: 0.7578 - f1_m: 0.8177 - auc_m: 0.9305 - val_loss: 1.1142 - val_acc: 0.7892 - val_loss_1: 1.1142 - val_binary_crossentropy: 0.4942 - val_recall_m: 0.2525 - val_precision_m: 0.2845 - val_f1_m: 0.2657 - val_auc_m: 0.9315\n",
      "Epoch 9/10\n",
      "1734/1735 [============================>.] - ETA: 0s - loss: 0.2820 - acc: 0.8920 - loss_1: 0.2836 - binary_crossentropy: 0.2528 - recall_m: 0.8994 - precision_m: 0.7632 - f1_m: 0.8232 - auc_m: 0.9328class weights saved to path: \n",
      "cst_nb_model_idc9.h5\n",
      "1735/1735 [==============================] - 484s 279ms/step - loss: 0.2820 - acc: 0.8921 - loss_1: 0.2835 - binary_crossentropy: 0.2527 - recall_m: 0.8994 - precision_m: 0.7632 - f1_m: 0.8233 - auc_m: 0.9328 - val_loss: 1.1095 - val_acc: 0.7746 - val_loss_1: 1.1095 - val_binary_crossentropy: 0.5293 - val_recall_m: 0.2559 - val_precision_m: 0.2845 - val_f1_m: 0.2680 - val_auc_m: 0.9335\n",
      "Epoch 10/10\n",
      "1734/1735 [============================>.] - ETA: 0s - loss: 0.2748 - acc: 0.8949 - loss_1: 0.2772 - binary_crossentropy: 0.2462 - recall_m: 0.9057 - precision_m: 0.7666 - f1_m: 0.8277 - auc_m: 0.9346class weights saved to path: \n",
      "cst_nb_model_idc10.h5\n",
      "1735/1735 [==============================] - 484s 279ms/step - loss: 0.2748 - acc: 0.8949 - loss_1: 0.2772 - binary_crossentropy: 0.2462 - recall_m: 0.9057 - precision_m: 0.7667 - f1_m: 0.8277 - auc_m: 0.9346 - val_loss: 1.0216 - val_acc: 0.7924 - val_loss_1: 1.0216 - val_binary_crossentropy: 0.4906 - val_recall_m: 0.2520 - val_precision_m: 0.2846 - val_f1_m: 0.2655 - val_auc_m: 0.9355\n"
     ]
    }
   ],
   "source": [
    "\"\"\"train parameters\"\"\"\n",
    "save_all_epochs = True\n",
    "model_save_path = \"../models\"\n",
    "model_name = \"cst_nb_model_idc\"\n",
    "save_metrics = True\n",
    "epochs = 10\n",
    "\"\"\"----------------\"\"\"\n",
    "\n",
    "cst.train_cst(\n",
    "    x=t_flow,\n",
    "    validation_data=v_flow,\n",
    "    save_all_epochs=save_all_epochs,\n",
    "    model_save_path=model_save_path,\n",
    "    model_name=model_name,\n",
    "    save_metrics=save_metrics,\n",
    "    class_weight=class_weight,\n",
    "    epochs=epochs\n",
    ")"
   ]
  }
 ],
 "metadata": {
  "kernelspec": {
   "display_name": "python3.6",
   "language": "python",
   "name": "python3.6"
  },
  "language_info": {
   "codemirror_mode": {
    "name": "ipython",
    "version": 3
   },
   "file_extension": ".py",
   "mimetype": "text/x-python",
   "name": "python",
   "nbconvert_exporter": "python",
   "pygments_lexer": "ipython3",
   "version": "3.6.2"
  }
 },
 "nbformat": 4,
 "nbformat_minor": 2
}
