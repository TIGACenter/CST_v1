{
 "cells": [
  {
   "cell_type": "code",
   "execution_count": 1,
   "metadata": {},
   "outputs": [],
   "source": [
    "import os\n",
    "import sys\n",
    "sys.path.append(\"..\")\n",
    "import pathlib\n",
    "import tensorflow as tf\n",
    "import numpy as np\n",
    "\n",
    "import utils as utils\n",
    "import CST as CST\n",
    "from metrics import recall_m, precision_m, f1_m, auc_m\n",
    "from load_data import load_aj_idc"
   ]
  },
  {
   "cell_type": "markdown",
   "metadata": {},
   "source": [
    "#### Load data and create generators"
   ]
  },
  {
   "cell_type": "code",
   "execution_count": 2,
   "metadata": {},
   "outputs": [
    {
     "name": "stdout",
     "output_type": "stream",
     "text": [
      "Dataset: Invasive Ductal Carcinoma Identification.\n",
      "Author: Andrew Janowczyk\n",
      "source: http://andrewjanowczyk.com/deep-learning/\n",
      "Downloading dataset (might take a few minutes)...\n",
      "...Download complete\n",
      "Organizing images into class folders...\n",
      "...Organization complete\n",
      "Found 222020 images belonging to 2 classes.\n",
      "Found 55504 images belonging to 2 classes.\n"
     ]
    }
   ],
   "source": [
    "\"\"\"generator parameters\"\"\"\n",
    "data_path = \"../data/aj/IDC_regular_ps50_idx5\"\n",
    "# data_path = \"../data/cifar-10/train\"\n",
    "batch_size = 128\n",
    "tile_size = 50\n",
    "class_mode = \"binary\"  # categorical or binary. Binary for idc dataset because it has 2 classes\n",
    "\"\"\"--------------------\"\"\"\n",
    "\n",
    "# Download the data if the folder does not exist\n",
    "if not os.path.exists(data_path):\n",
    "    pathlib.Path(\"../data/aj\").mkdir(parents=True, exist_ok=True)\n",
    "    load_aj_idc(\"../data/aj\")\n",
    "\n",
    "\n",
    "# Generators for training/validation\n",
    "gen = tf.keras.preprocessing.image.ImageDataGenerator(\n",
    "    validation_split=0.2,\n",
    "    preprocessing_function=utils.normalize_image # images must be normalized and centralized in 0 for the distortions to work\n",
    ")\n",
    "\n",
    "t_flow = gen.flow_from_directory(\n",
    "    directory=data_path,\n",
    "    target_size=(tile_size,tile_size),\n",
    "    color_mode='rgb',  \n",
    "    batch_size=batch_size,\n",
    "    class_mode=class_mode,\n",
    "    subset='training'\n",
    ")\n",
    "\n",
    "v_flow = gen.flow_from_directory(\n",
    "    directory=data_path,\n",
    "    target_size=(tile_size,tile_size),\n",
    "    color_mode=\"rgb\",  \n",
    "    batch_size=batch_size,\n",
    "    shuffle=False,\n",
    "    class_mode=class_mode, \n",
    "    subset='validation'\n",
    ")\n",
    "\n",
    "class_weight = utils.get_class_weights(t_flow.classes)"
   ]
  },
  {
   "cell_type": "code",
   "execution_count": 3,
   "metadata": {},
   "outputs": [
    {
     "name": "stdout",
     "output_type": "stream",
     "text": [
      "N° of classes: 2:\n",
      "{'0': 0, '1': 1}\n"
     ]
    }
   ],
   "source": [
    "classes = t_flow.class_indices\n",
    "n_classes = len(classes)\n",
    "print(f\"N° of classes: {n_classes}:\")\n",
    "print(classes)\n",
    "n_classes = 1 if n_classes == 2 else n_classes # if 2 classes, then its a binary problem \n"
   ]
  },
  {
   "cell_type": "markdown",
   "metadata": {},
   "source": [
    "#### Create model and cst instance"
   ]
  },
  {
   "cell_type": "code",
   "execution_count": 4,
   "metadata": {},
   "outputs": [
    {
     "name": "stderr",
     "output_type": "stream",
     "text": [
      "/usr/local/lib/python3.6/dist-packages/keras_applications/resnet50.py:265: UserWarning: The output shape of `ResNet50(include_top=False)` has been changed since Keras 2.2.0.\n",
      "  warnings.warn('The output shape of `ResNet50(include_top=False)` '\n"
     ]
    },
    {
     "name": "stdout",
     "output_type": "stream",
     "text": [
      "_________________________________________________________________\n",
      "Layer (type)                 Output Shape              Param #   \n",
      "=================================================================\n",
      "input_2 (InputLayer)         (None, 50, 50, 3)         0         \n",
      "_________________________________________________________________\n",
      "sequential (Sequential)      (None, 1)                 24112129  \n",
      "=================================================================\n",
      "Total params: 24,112,129\n",
      "Trainable params: 24,059,009\n",
      "Non-trainable params: 53,120\n",
      "_________________________________________________________________\n"
     ]
    }
   ],
   "source": [
    "\"\"\"cst parameters\"\"\"\n",
    "alpha = 1\n",
    "dist_params = {\n",
    "    \"contrast\": {\"lower\": 0.4, \"upper\": 1.4},\n",
    "    \"color\": {\"factor\": [20,20,20]},\n",
    "    \"blur\": {\"kernel_size\": 1, \"sigma\": 3.},  # kernel size is 'kernel_size * 2 + 1'\n",
    "    \"brightness\": {\"max_delta\":0.3}\n",
    "}\n",
    "# model_path = \"../models/CST4_alpha1_DC4.h5\"\n",
    "\n",
    "\"\"\"--------------\"\"\"\n",
    "activation = \"sigmoid\" if class_mode == \"binary\" else \"softmax\"\n",
    "\n",
    "\n",
    "# model = tf.keras.models.load_model(model_path)\n",
    "\n",
    "model = tf.keras.Sequential([\n",
    "    tf.keras.applications.ResNet50(weights='imagenet', include_top=False, input_shape=(tile_size,tile_size,3)),\n",
    "    tf.keras.layers.Flatten(),\n",
    "    tf.keras.layers.Dense(64, activation='relu'),\n",
    "    tf.keras.layers.Dense(n_classes, activation=activation)\n",
    "])\n",
    "\n",
    "cst = CST.ContrastiveStabilityTraining(\n",
    "    model=model,\n",
    "    tile_size=tile_size,\n",
    "    dist_params=dist_params,\n",
    "    alpha=alpha\n",
    ")\n",
    "cst.cst_model.summary()\n"
   ]
  },
  {
   "cell_type": "markdown",
   "metadata": {},
   "source": [
    "#### Compile "
   ]
  },
  {
   "cell_type": "code",
   "execution_count": 5,
   "metadata": {},
   "outputs": [],
   "source": [
    "# opt = tf.keras.optimizers.SGD(lr=1e-4, momentum=0.9, decay=1e-6)\n",
    "opt = tf.keras.optimizers.Adam(lr=1e-4, amsgrad=True)\n",
    "\n",
    "if class_mode == \"binary\":\n",
    "    metrics = [tf.keras.metrics.binary_crossentropy, recall_m, precision_m, f1_m, auc_m]\n",
    "    loss = tf.keras.losses.binary_crossentropy\n",
    "\n",
    "if class_mode == \"categorical\":\n",
    "    metrics = [\"categorical_crossentropy\", recall_m, precision_m, f1_m, auc_m]\n",
    "    loss = tf.keras.losses.categorical_crossentropy\n",
    "\n",
    "cst.compile_cst(optimizer=opt, metrics=metrics, loss=loss)"
   ]
  },
  {
   "cell_type": "markdown",
   "metadata": {},
   "source": [
    "#### Train"
   ]
  },
  {
   "cell_type": "code",
   "execution_count": 6,
   "metadata": {
    "scrolled": true
   },
   "outputs": [
    {
     "name": "stdout",
     "output_type": "stream",
     "text": [
      "Epoch 1/1\n",
      "1734/1735 [============================>.] - ETA: 0s - loss: 0.3340 - acc: 0.8696 - loss_1: 0.3332 - binary_crossentropy: 0.3115 - recall_m: 0.8738 - precision_m: 0.7254 - f1_m: 0.7898 - auc_m: 0.9233Epoch 1/1\n",
      "class weights saved to path: \n",
      "cst_nb_model_idc1.h5\n",
      "1735/1735 [==============================] - 538s 310ms/step - loss: 0.3340 - acc: 0.8696 - loss_1: 0.3332 - binary_crossentropy: 0.3115 - recall_m: 0.8738 - precision_m: 0.7254 - f1_m: 0.7898 - auc_m: 0.9233 - val_loss: 1.2104 - val_acc: 0.7850 - val_loss_1: 1.2104 - val_binary_crossentropy: 0.5232 - val_recall_m: 0.2581 - val_precision_m: 0.2843 - val_f1_m: 0.2695 - val_auc_m: 0.9331\n"
     ]
    }
   ],
   "source": [
    "\"\"\"train parameters\"\"\"\n",
    "save_all_epochs = True\n",
    "model_save_path = \"../models\"\n",
    "model_name = \"cst_nb_model_idc\"\n",
    "save_metrics = True\n",
    "epochs = 1\n",
    "\"\"\"----------------\"\"\"\n",
    "\n",
    "cst.train_cst(\n",
    "    x=t_flow,\n",
    "    validation_data=v_flow,\n",
    "    save_all_epochs=save_all_epochs,\n",
    "    model_save_path=model_save_path,\n",
    "    model_name=model_name,\n",
    "    save_metrics=save_metrics,\n",
    "    class_weight=class_weight,\n",
    "    epochs=epochs\n",
    ")"
   ]
  }
 ],
 "metadata": {
  "kernelspec": {
   "display_name": "python3.6",
   "language": "python",
   "name": "python3.6"
  },
  "language_info": {
   "codemirror_mode": {
    "name": "ipython",
    "version": 3
   },
   "file_extension": ".py",
   "mimetype": "text/x-python",
   "name": "python",
   "nbconvert_exporter": "python",
   "pygments_lexer": "ipython3",
   "version": "3.6.2"
  }
 },
 "nbformat": 4,
 "nbformat_minor": 2
}
