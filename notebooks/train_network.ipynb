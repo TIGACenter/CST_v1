{
 "cells": [
  {
   "cell_type": "code",
   "execution_count": 1,
   "metadata": {},
   "outputs": [],
   "source": [
    "import os\n",
    "import sys\n",
    "sys.path.append(\"..\")\n",
    "import pathlib\n",
    "import tensorflow as tf\n",
    "import numpy as np\n",
    "\n",
    "import utils as utils\n",
    "import CST as CST\n",
    "from metrics import recall_m, precision_m, f1_m, auc_m\n",
    "from load_data import load_aj_idc"
   ]
  },
  {
   "cell_type": "markdown",
   "metadata": {},
   "source": [
    "#### Load data and create generators"
   ]
  },
  {
   "cell_type": "code",
   "execution_count": 2,
   "metadata": {},
   "outputs": [
    {
     "name": "stdout",
     "output_type": "stream",
     "text": [
      "Found 222020 images belonging to 2 classes.\n",
      "Found 55504 images belonging to 2 classes.\n"
     ]
    }
   ],
   "source": [
    "\"\"\"generator parameters\"\"\"\n",
    "data_path = \"../data/aj/IDC_regular_ps50_idx5\"\n",
    "# data_path = \"../data/cifar-10/train\"\n",
    "batch_size = 128\n",
    "tile_size = 50\n",
    "class_mode = \"binary\"  # categorical or binary. Binary for idc dataset because it has 2 classes\n",
    "\"\"\"--------------------\"\"\"\n",
    "\n",
    "# Download the data if the folder does not exist\n",
    "if not os.path.exists(data_path):\n",
    "    pathlib.Path(\"../data/aj\").mkdir(parents=True, exist_ok=True)\n",
    "    load_aj_idc(\"../data/aj\")\n",
    "\n",
    "\n",
    "# Generators for training/validation\n",
    "gen = tf.keras.preprocessing.image.ImageDataGenerator(\n",
    "    validation_split=0.2,\n",
    "    preprocessing_function=utils.normalize_image # images must be normalized and centralized in 0 for the distortions to work\n",
    ")\n",
    "\n",
    "t_flow = gen.flow_from_directory(\n",
    "    directory=data_path,\n",
    "    target_size=(tile_size,tile_size),\n",
    "    color_mode='rgb',  \n",
    "    batch_size=batch_size,\n",
    "    class_mode=class_mode,\n",
    "    subset='training'\n",
    ")\n",
    "\n",
    "v_flow = gen.flow_from_directory(\n",
    "    directory=data_path,\n",
    "    target_size=(tile_size,tile_size),\n",
    "    color_mode=\"rgb\",  \n",
    "    batch_size=batch_size,\n",
    "    shuffle=False,\n",
    "    class_mode=class_mode, \n",
    "    subset='validation'\n",
    ")\n",
    "\n",
    "class_weight = utils.get_class_weights(t_flow.classes)"
   ]
  },
  {
   "cell_type": "code",
   "execution_count": 3,
   "metadata": {},
   "outputs": [
    {
     "name": "stdout",
     "output_type": "stream",
     "text": [
      "N° of classes: 2:\n",
      "{'0': 0, '1': 1}\n"
     ]
    }
   ],
   "source": [
    "classes = t_flow.class_indices\n",
    "n_classes = len(classes)\n",
    "print(f\"N° of classes: {n_classes}:\")\n",
    "print(classes)\n",
    "n_classes = 1 if n_classes == 2 else n_classes # if 2 classes, then its a binary problem \n"
   ]
  },
  {
   "cell_type": "markdown",
   "metadata": {},
   "source": [
    "#### Create model and cst instance"
   ]
  },
  {
   "cell_type": "code",
   "execution_count": 4,
   "metadata": {},
   "outputs": [
    {
     "name": "stdout",
     "output_type": "stream",
     "text": [
      "WARNING:tensorflow:From /usr/local/lib/python3.6/dist-packages/tensorflow/python/ops/resource_variable_ops.py:435: colocate_with (from tensorflow.python.framework.ops) is deprecated and will be removed in a future version.\n",
      "Instructions for updating:\n",
      "Colocations handled automatically by placer.\n"
     ]
    },
    {
     "name": "stderr",
     "output_type": "stream",
     "text": [
      "/usr/local/lib/python3.6/dist-packages/keras_applications/resnet50.py:265: UserWarning: The output shape of `ResNet50(include_top=False)` has been changed since Keras 2.2.0.\n",
      "  warnings.warn('The output shape of `ResNet50(include_top=False)` '\n"
     ]
    },
    {
     "name": "stdout",
     "output_type": "stream",
     "text": [
      "Downloading data from https://github.com/fchollet/deep-learning-models/releases/download/v0.2/resnet50_weights_tf_dim_ordering_tf_kernels_notop.h5\n",
      "94658560/94653016 [==============================] - 8s 0us/step\n",
      "WARNING:tensorflow:From ../utils.py:46: Normal.__init__ (from tensorflow.python.ops.distributions.normal) is deprecated and will be removed after 2019-01-01.\n",
      "Instructions for updating:\n",
      "The TensorFlow Distributions library has moved to TensorFlow Probability (https://github.com/tensorflow/probability). You should update all references to use `tfp.distributions` instead of `tf.distributions`.\n",
      "WARNING:tensorflow:From /usr/local/lib/python3.6/dist-packages/tensorflow/python/ops/distributions/normal.py:160: Distribution.__init__ (from tensorflow.python.ops.distributions.distribution) is deprecated and will be removed after 2019-01-01.\n",
      "Instructions for updating:\n",
      "The TensorFlow Distributions library has moved to TensorFlow Probability (https://github.com/tensorflow/probability). You should update all references to use `tfp.distributions` instead of `tf.distributions`.\n",
      "_________________________________________________________________\n",
      "Layer (type)                 Output Shape              Param #   \n",
      "=================================================================\n",
      "input_2 (InputLayer)         (None, 50, 50, 3)         0         \n",
      "_________________________________________________________________\n",
      "sequential (Sequential)      (None, 1)                 24112129  \n",
      "=================================================================\n",
      "Total params: 24,112,129\n",
      "Trainable params: 24,059,009\n",
      "Non-trainable params: 53,120\n",
      "_________________________________________________________________\n"
     ]
    }
   ],
   "source": [
    "\"\"\"cst parameters\"\"\"\n",
    "alpha = 1\n",
    "dist_params = {\n",
    "    \"contrast\": {\"lower\": 0.4, \"upper\": 1.4},\n",
    "    \"color\": {\"factor\": [20,20,20]},\n",
    "    \"blur\": {\"kernel_size\": 1, \"sigma\": 3.},  # kernel size is 'kernel_size * 2 + 1'\n",
    "    \"brightness\": {\"max_delta\":0.3}\n",
    "}\n",
    "# model_path = \"../models/CST4_alpha1_DC4.h5\"\n",
    "\n",
    "\"\"\"--------------\"\"\"\n",
    "activation = \"sigmoid\" if class_mode == \"binary\" else \"softmax\"\n",
    "\n",
    "\n",
    "# model = tf.keras.models.load_model(model_path)\n",
    "\n",
    "model = tf.keras.Sequential([\n",
    "    tf.keras.applications.ResNet50(weights='imagenet', include_top=False, input_shape=(tile_size,tile_size,3)),\n",
    "    tf.keras.layers.Flatten(),\n",
    "    tf.keras.layers.Dense(64, activation='relu'),\n",
    "    tf.keras.layers.Dense(n_classes, activation=activation)\n",
    "])\n",
    "\n",
    "cst = CST.CNNStabilityTraining(\n",
    "    model=model,\n",
    "    tile_size=tile_size,\n",
    "    dist_params=dist_params,\n",
    "    alpha=alpha\n",
    ")\n",
    "cst.cst_model.summary()\n"
   ]
  },
  {
   "cell_type": "markdown",
   "metadata": {},
   "source": [
    "#### Compile "
   ]
  },
  {
   "cell_type": "code",
   "execution_count": 5,
   "metadata": {},
   "outputs": [
    {
     "name": "stdout",
     "output_type": "stream",
     "text": [
      "WARNING:tensorflow:From /usr/local/lib/python3.6/dist-packages/tensorflow/python/ops/metrics_impl.py:526: to_float (from tensorflow.python.ops.math_ops) is deprecated and will be removed in a future version.\n",
      "Instructions for updating:\n",
      "Use tf.cast instead.\n",
      "WARNING:tensorflow:From /usr/local/lib/python3.6/dist-packages/tensorflow/python/ops/metrics_impl.py:788: div (from tensorflow.python.ops.math_ops) is deprecated and will be removed in a future version.\n",
      "Instructions for updating:\n",
      "Deprecated in favor of operator or tf.math.divide.\n"
     ]
    }
   ],
   "source": [
    "# opt = tf.keras.optimizers.SGD(lr=1e-4, momentum=0.9, decay=1e-6)\n",
    "opt = tf.keras.optimizers.Adam(lr=1e-4, amsgrad=True)\n",
    "\n",
    "if class_mode == \"binary\":\n",
    "    metrics = [tf.keras.metrics.binary_crossentropy, recall_m, precision_m, f1_m, auc_m]\n",
    "    loss = tf.keras.losses.binary_crossentropy\n",
    "\n",
    "if class_mode == \"categorical\":\n",
    "    metrics = [\"categorical_crossentropy\", recall_m, precision_m, f1_m, auc_m]\n",
    "    loss = tf.keras.losses.categorical_crossentropy\n",
    "\n",
    "cst.compile_cst(optimizer=opt, metrics=metrics, loss=loss)"
   ]
  },
  {
   "cell_type": "markdown",
   "metadata": {},
   "source": [
    "#### Train"
   ]
  },
  {
   "cell_type": "code",
   "execution_count": 6,
   "metadata": {
    "scrolled": true
   },
   "outputs": [
    {
     "name": "stdout",
     "output_type": "stream",
     "text": [
      "WARNING:tensorflow:From /usr/local/lib/python3.6/dist-packages/tensorflow/python/ops/math_ops.py:3066: to_int32 (from tensorflow.python.ops.math_ops) is deprecated and will be removed in a future version.\n",
      "Instructions for updating:\n",
      "Use tf.cast instead.\n",
      "434/434 [==============================] - 54s 124ms/step - loss: 1.0740 - acc: 0.7878 - loss_1: 1.0740 - binary_crossentropy: 0.5057 - recall_m: 0.2552 - precision_m: 0.2845 - f1_m: 0.2677 - auc_m: 0.9330\n",
      "class weights saved to path: \n",
      "cst_nb_model_idc1.h5\n",
      "1735/1735 [==============================] - 635s 366ms/step - loss: 0.3367 - acc: 0.8677 - loss_1: 0.3354 - binary_crossentropy: 0.3120 - recall_m: 0.8718 - precision_m: 0.7216 - f1_m: 0.7866 - auc_m: 0.9227 - val_loss: 1.0740 - val_acc: 0.7878 - val_loss_1: 1.0740 - val_binary_crossentropy: 0.5057 - val_recall_m: 0.2552 - val_precision_m: 0.2845 - val_f1_m: 0.2677 - val_auc_m: 0.9330\n"
     ]
    }
   ],
   "source": [
    "\"\"\"train parameters\"\"\"\n",
    "save_all_epochs = True\n",
    "model_save_path = \"../models\"\n",
    "model_name = \"cst_nb_model_idc\"\n",
    "save_metrics = True\n",
    "epochs = 1\n",
    "\"\"\"----------------\"\"\"\n",
    "\n",
    "cst.train_cst(\n",
    "    x=t_flow,\n",
    "    validation_data=v_flow,\n",
    "    save_all_epochs=save_all_epochs,\n",
    "    model_save_path=model_save_path,\n",
    "    model_name=model_name,\n",
    "    save_metrics=save_metrics,\n",
    "    class_weight=class_weight,\n",
    "    epochs=epochs\n",
    ")"
   ]
  }
 ],
 "metadata": {
  "kernelspec": {
   "display_name": "Python 3 (ipykernel)",
   "language": "python",
   "name": "python3"
  },
  "language_info": {
   "codemirror_mode": {
    "name": "ipython",
    "version": 3
   },
   "file_extension": ".py",
   "mimetype": "text/x-python",
   "name": "python",
   "nbconvert_exporter": "python",
   "pygments_lexer": "ipython3",
   "version": "3.8.10"
  }
 },
 "nbformat": 4,
 "nbformat_minor": 2
}
